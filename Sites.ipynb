{
 "cells": [
  {
   "cell_type": "code",
   "execution_count": 1,
   "metadata": {
    "collapsed": true
   },
   "outputs": [],
   "source": [
    "%matplotlib inline\n",
    "import pymongo\n",
    "from pymongo import MongoClient\n",
    "import matplotlib\n",
    "matplotlib.rcParams.update({'font.size': 22})\n",
    "import matplotlib.pyplot as plt\n",
    "import numpy\n",
    "from pprint import pprint\n",
    "from collections import defaultdict\n",
    "from datetime import datetime, timedelta\n",
    "from functools import partial\n",
    "import time\n",
    "db = MongoClient('localhost').condor"
   ]
  },
  {
   "cell_type": "code",
   "execution_count": 110,
   "metadata": {
    "collapsed": false
   },
   "outputs": [
    {
     "name": "stdout",
     "output_type": "stream",
     "text": [
      "total 7019583.989444445\n"
     ]
    }
   ],
   "source": [
    "avg = 0.\n",
    "num = 0\n",
    "for row in db.condor_history.find({'EnteredCurrentStatus':{'$gte':time.mktime((2016,1,1,0,0,0,0,0,0)),\n",
    "                                       '$lt':time.mktime((2017,1,1,0,0,0,0,0,0))},\n",
    "                                   'LastRemoteHost':{'$regex':'chtc'},\n",
    "                                  },\n",
    "                                  projection=['RemoteWallClockTime']):\n",
    "    avg += row['RemoteWallClockTime']\n",
    "    num += 1\n",
    "print('total',avg/3600)"
   ]
  },
  {
   "cell_type": "code",
   "execution_count": 108,
   "metadata": {
    "collapsed": false
   },
   "outputs": [
    {
     "name": "stdout",
     "output_type": "stream",
     "text": [
      "total 137018.11194444445\n"
     ]
    }
   ],
   "source": [
    "avg = 0.\n",
    "num = 0\n",
    "for row in db.condor_history.find({'EnteredCurrentStatus':{'$gte':time.mktime((2016,1,1,0,0,0,0,0,0)),\n",
    "                                       '$lt':time.mktime((2017,1,1,0,0,0,0,0,0))},\n",
    "                                   'LastRemoteHost':{'$regex':'chtc'},\n",
    "                                  },\n",
    "                                  projection=['RemoteWallClockTime']):\n",
    "    avg += row['RemoteWallClockTime']\n",
    "    num += 1\n",
    "print('total',avg/3600)"
   ]
  },
  {
   "cell_type": "code",
   "execution_count": 109,
   "metadata": {
    "collapsed": false
   },
   "outputs": [
    {
     "name": "stdout",
     "output_type": "stream",
     "text": [
      "total 7106601.990555556\n"
     ]
    }
   ],
   "source": [
    "avg = 0.\n",
    "num = 0\n",
    "for row in db.condor_history.find({'EnteredCurrentStatus':{'$gte':time.mktime((2016,1,1,0,0,0,0,0,0)),\n",
    "                                       '$lt':time.mktime((2017,1,1,0,0,0,0,0,0))},\n",
    "                                   'LastRemoteHost':{'$regex':'chtc'},\n",
    "                                  },\n",
    "                                  projection=['CumulativeSlotTime']):\n",
    "    avg += row['CumulativeSlotTime']\n",
    "    num += 1\n",
    "print('total',avg/3600)"
   ]
  },
  {
   "cell_type": "code",
   "execution_count": 100,
   "metadata": {
    "collapsed": false
   },
   "outputs": [],
   "source": [
    "db.condor_history.find_one({'MATCH_EXP_JOBGLIDEIN_ResourceName':{'$ne':'Comet'},'LastRemoteHost':{'$regex':'comet-..-..\\.sdsc\\.edu'}})"
   ]
  },
  {
   "cell_type": "code",
   "execution_count": 97,
   "metadata": {
    "collapsed": false
   },
   "outputs": [
    {
     "name": "stdout",
     "output_type": "stream",
     "text": [
      "defaultdict(<class 'float'>,\n",
      "            {'comet-30-05.sdsc.edu': 381.10416666666737,\n",
      "             'comet-30-10.sdsc.edu': 1867.5530555555533,\n",
      "             'comet-31-08.sdsc.edu': 2384.9333333333293,\n",
      "             'comet-31-10.sdsc.edu': 943.826388888889,\n",
      "             'comet-31-17.sdsc.edu': 1315.156388888891})\n",
      "6892.57333333333\n"
     ]
    }
   ],
   "source": [
    "hosts = defaultdict(float)\n",
    "for row in db.condor_history.find({'Requestgpus':1,'ExitBySignal':True,'ExitSignal':{'$in':[12,9,15]},'MATCH_EXP_JOBGLIDEIN_ResourceName':'Comet','EnteredCurrentStatus':{'$gte':time.mktime((2017,1,1,0,0,0,0,0,0)),'$lt':time.mktime((2017,1,2,0,0,0,0,0,0))}},projection=['LastRemoteHost','RemoteWallClockTime']):\n",
    "    hosts[row['LastRemoteHost'].split('@')[-1]] += row['RemoteWallClockTime']/3600\n",
    "pprint(hosts)\n",
    "print(sum(hosts.values()))"
   ]
  },
  {
   "cell_type": "code",
   "execution_count": 32,
   "metadata": {
    "collapsed": false
   },
   "outputs": [
    {
     "name": "stdout",
     "output_type": "stream",
     "text": [
      "1498.047780752182\n",
      "59\n"
     ]
    }
   ],
   "source": [
    "start_time = time.time()\n",
    "pipeline = [\n",
    "    {'$match':{'MATCH_EXP_JOBGLIDEIN_ResourceName':{'$exists': True},\n",
    "               'LastRemoteHost': {'$regex':'glidein_'} } },\n",
    "    {'$group':{'_id':'$MATCH_EXP_JOBGLIDEIN_ResourceName','count':{'$sum':1}}},\n",
    "]\n",
    "groups = {row['_id']:row['count'] for row in db.condor_history.aggregate(pipeline)}\n",
    "print(time.time()-start_time)\n",
    "print(len(groups))"
   ]
  },
  {
   "cell_type": "code",
   "execution_count": 33,
   "metadata": {
    "collapsed": false
   },
   "outputs": [
    {
     "data": {
      "text/plain": [
       "['DESY-ZN',\n",
       " 'CIT_CMS_T2',\n",
       " 'Crane',\n",
       " 'GPGrid',\n",
       " 'CA-SCINET-T2',\n",
       " 'SU-OG-CE1',\n",
       " 'xsede-osg',\n",
       " 'Nebraska',\n",
       " 'SU-OG-CE',\n",
       " 'MWT2',\n",
       " 'CA-MCGILL-CLUMEQ-T2',\n",
       " 'HOSTED_STANFORD',\n",
       " 'wuppertalprod',\n",
       " 'BNL-ATLAS',\n",
       " 'Tusker',\n",
       " 'Syracuse',\n",
       " 'SPRACE',\n",
       " 'NWICG_NDCMS',\n",
       " 'OU_OSCER_ATLAS',\n",
       " 'UNI-DORTMUND',\n",
       " 'UCSDT2',\n",
       " 'Purdue-Hadoop',\n",
       " 'UConn-OSG',\n",
       " 'RWTH-Aachen',\n",
       " 'USCMS-FNAL-WC1',\n",
       " 'Hyak',\n",
       " 'SU-OG',\n",
       " 'BEgrid-ULB-VUB',\n",
       " 'UCD',\n",
       " 'AGLT2',\n",
       " 'Clemson-Palmetto',\n",
       " 'DESY-HH',\n",
       " 'NPX',\n",
       " 'UKI-NORTHGRID-MAN-HEP',\n",
       " 'NYSGRID_CORNELL_NYS1',\n",
       " 'FLTECH',\n",
       " 'NUMEP-OSG',\n",
       " 'Illinois',\n",
       " 'GridUNESP_CENTRAL',\n",
       " 'SWT2_CPB',\n",
       " 'mainzgrid',\n",
       " 'osgconnect',\n",
       " 'UTA_SWT2',\n",
       " 'Vanderbilt',\n",
       " 'Sandhills',\n",
       " 'Ultralight',\n",
       " 'Kansas',\n",
       " 'Boston',\n",
       " 'Indiana',\n",
       " 'UKI-LT2-QMUL',\n",
       " 'LIDO_Dortmund',\n",
       " 'Guillimin',\n",
       " 'IceCube_DE_Dortmund_udo-ce08',\n",
       " 'CHTC',\n",
       " 'mainz',\n",
       " 'Dourtmund',\n",
       " 'Comet',\n",
       " 'T2B_BE_IIHE',\n",
       " 'DESY']"
      ]
     },
     "execution_count": 33,
     "metadata": {},
     "output_type": "execute_result"
    }
   ],
   "source": [
    "sorted(groups.keys(),key=lambda k:groups[k],reverse=True)"
   ]
  },
  {
   "cell_type": "code",
   "execution_count": 42,
   "metadata": {
    "collapsed": false
   },
   "outputs": [
    {
     "name": "stdout",
     "output_type": "stream",
     "text": [
      "2686390\n",
      "899221\n",
      "1524454\n"
     ]
    }
   ],
   "source": [
    "print(groups['Nebraska']+groups['Crane']+groups['Tusker']+groups['Sandhills'])\n",
    "print(groups['xsede-osg'])\n",
    "print(groups['CIT_CMS_T2'])"
   ]
  },
  {
   "cell_type": "code",
   "execution_count": 35,
   "metadata": {
    "collapsed": false
   },
   "outputs": [
    {
     "name": "stdout",
     "output_type": "stream",
     "text": [
      "1404.3809270858765\n",
      "95\n"
     ]
    },
    {
     "data": {
      "text/plain": [
       "['CHTC',\n",
       " 'xsede-osg',\n",
       " 'HEP_WISC',\n",
       " 'T2B_BE_IIHE',\n",
       " 'Guillimin',\n",
       " 'Comet',\n",
       " 'WIPAC',\n",
       " 'DESY',\n",
       " 'MATH_WISC',\n",
       " 'Hyak',\n",
       " 'CLOUD_WISC',\n",
       " 'NPX',\n",
       " 'mainz',\n",
       " 'CS_WISC',\n",
       " 'Syracuse',\n",
       " 'SU-OG-CE',\n",
       " 'Bartol',\n",
       " 'USCMS-FNAL-WC1',\n",
       " 'MWT2',\n",
       " 'UCSDT2',\n",
       " 'osgconnect',\n",
       " 'Crane',\n",
       " 'parallel',\n",
       " 'Nebraska',\n",
       " 'DESY-ZN',\n",
       " 'Japan',\n",
       " 'AGLT2',\n",
       " 'CA-MCGILL-CLUMEQ-T2',\n",
       " 'Tusker',\n",
       " 'CA-SCINET-T2',\n",
       " 'LIDO_Dortmund',\n",
       " 'SPRACE',\n",
       " 'Bridges',\n",
       " 'Alberta',\n",
       " 'FLTech',\n",
       " 'SU-OG',\n",
       " 'HOSTED_STANFORD',\n",
       " 'Clemson-Palmetto',\n",
       " 'gzk9000c012',\n",
       " 'gzk9000c011',\n",
       " 'CIT_CMS_T2',\n",
       " 'gzk9000c004',\n",
       " 'gzk9000c006',\n",
       " 'Boston',\n",
       " 'gzk9000c008',\n",
       " 'gzk9000c009',\n",
       " 'PHIDO_Dortmund',\n",
       " 'gzk9000c005',\n",
       " 'gzk9000c007',\n",
       " 'gzk9000c010',\n",
       " 'Uppsala',\n",
       " 'DESY-HH',\n",
       " 'Sandhills',\n",
       " 'GridUNESP_CENTRAL',\n",
       " 'BNL-ATLAS',\n",
       " 'FLTECH',\n",
       " 'UCD',\n",
       " 'NWICG_NDCMS',\n",
       " 'NUMEP-OSG',\n",
       " 'jasper',\n",
       " 'UNI-DORTMUND',\n",
       " 'Utah',\n",
       " 'GPGrid',\n",
       " 'SU-OG-CE1',\n",
       " 'MIT',\n",
       " 'Purdue-Hadoop',\n",
       " 'mainzgrid',\n",
       " 'NYSGRID_CORNELL_NYS1',\n",
       " 'GZK',\n",
       " 'UConn-OSG',\n",
       " 'gzk9000c002',\n",
       " 'gzk9000c001',\n",
       " 'UTA_SWT2',\n",
       " 'WISC',\n",
       " 'Illinois',\n",
       " 'SWT2_CPB',\n",
       " 'BEgrid-ULB-VUB',\n",
       " 'wuppertalprod',\n",
       " 'Local Job',\n",
       " 'Ultralight',\n",
       " 'Xstream',\n",
       " 'AWS',\n",
       " 'RWTH-Aachen',\n",
       " 'Indiana',\n",
       " 'Miss',\n",
       " 'UKI-NORTHGRID-MAN-HEP',\n",
       " 'Vanderbilt',\n",
       " 'Colorado',\n",
       " 'Berkeley',\n",
       " 'OU_OSCER_ATLAS',\n",
       " 'Kansas',\n",
       " 'gzk-2',\n",
       " 'gzk9000c003',\n",
       " 'UCRiverside',\n",
       " 'gzk-1']"
      ]
     },
     "execution_count": 35,
     "metadata": {},
     "output_type": "execute_result"
    }
   ],
   "source": [
    "import re\n",
    "start_time = time.time()\n",
    "pipeline = [\n",
    "    {'$match':{'MATCH_EXP_JOBGLIDEIN_ResourceName':{'$exists': True},\n",
    "               'LastRemoteHost': {'$not': re.compile('glidein_') } } },\n",
    "    {'$group':{'_id':'$MATCH_EXP_JOBGLIDEIN_ResourceName','count':{'$sum':1}}},\n",
    "]\n",
    "groups2 = {row['_id']:row['count'] for row in db.condor_history.aggregate(pipeline)}\n",
    "print(time.time()-start_time)\n",
    "print(len(groups2))\n",
    "sorted(groups2.keys(),key=lambda k:groups2[k],reverse=True)"
   ]
  },
  {
   "cell_type": "code",
   "execution_count": 58,
   "metadata": {
    "collapsed": false
   },
   "outputs": [
    {
     "name": "stdout",
     "output_type": "stream",
     "text": [
      "3399555\n",
      "2476588\n",
      "1215670\n",
      "538520\n",
      "520533\n",
      "272381\n",
      "271050\n",
      "263246\n",
      "183\n",
      "51749\n",
      "2499\n"
     ]
    }
   ],
   "source": [
    "print(groups2['T2B_BE_IIHE']+groups2['BEgrid-ULB-VUB'])\n",
    "print(groups2['DESY'])\n",
    "print(groups2['mainz'])\n",
    "print(groups2['Bartol'])\n",
    "print(groups2['parallel']+groups2['Alberta']+groups2['jasper'])\n",
    "print(groups2['Japan'])\n",
    "print(groups2['CA-MCGILL-CLUMEQ-T2'])\n",
    "print(groups2['LIDO_Dortmund']+groups2['PHIDO_Dortmund']+groups2['UNI-DORTMUND'])\n",
    "print(groups2['Uppsala'])\n",
    "print(groups2['wuppertalprod'])"
   ]
  },
  {
   "cell_type": "code",
   "execution_count": null,
   "metadata": {
    "collapsed": true
   },
   "outputs": [],
   "source": []
  }
 ],
 "metadata": {
  "kernelspec": {
   "display_name": "Python 3",
   "language": "python",
   "name": "python3"
  },
  "language_info": {
   "codemirror_mode": {
    "name": "ipython",
    "version": 3
   },
   "file_extension": ".py",
   "mimetype": "text/x-python",
   "name": "python",
   "nbconvert_exporter": "python",
   "pygments_lexer": "ipython3",
   "version": "3.5.3"
  }
 },
 "nbformat": 4,
 "nbformat_minor": 2
}
