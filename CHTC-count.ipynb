{
 "cells": [
  {
   "cell_type": "code",
   "execution_count": 1,
   "metadata": {
    "collapsed": true
   },
   "outputs": [],
   "source": [
    "%matplotlib inline\n",
    "import pymongo\n",
    "from pymongo import MongoClient\n",
    "import matplotlib\n",
    "matplotlib.rcParams.update({'font.size': 22})\n",
    "import matplotlib.pyplot as plt\n",
    "import numpy\n",
    "from pprint import pprint\n",
    "from collections import defaultdict\n",
    "from datetime import datetime, timedelta\n",
    "from functools import partial\n",
    "import time\n",
    "db = MongoClient('localhost').condor"
   ]
  },
  {
   "cell_type": "code",
   "execution_count": 11,
   "metadata": {
    "collapsed": false
   },
   "outputs": [
    {
     "data": {
      "text/plain": [
       "{'AccountingGroup': 'ifThenElse(Requestgpus > 0,strcat(\"gpu.\",Owner),undefined)',\n",
       " 'BytesRecvd': 30839534.0,\n",
       " 'BytesSent': 45207.0,\n",
       " 'ClusterId': 22064685,\n",
       " 'Cmd': '/scratch/simprod/glow/submit/12622/iceprod_18454.1483595290.684937/iceprod.12622.18454.topsimulator.sh',\n",
       " 'CommittedTime': 50,\n",
       " 'CompletionDate': 1483596000,\n",
       " 'CumulativeSlotTime': 50.0,\n",
       " 'DiskUsage_RAW': 2701924,\n",
       " 'EnteredCurrentStatus': 1483596000,\n",
       " 'ExecutableSize_RAW': 3,\n",
       " 'ExitBySignal': False,\n",
       " 'ExitCode': 0,\n",
       " 'ExitStatus': 0,\n",
       " 'GlobalJobId': 'sub-simprod.icecube.wisc.edu#22064685.0#1483595351',\n",
       " 'ImageSize_RAW': 147796,\n",
       " 'JobCurrentStartDate': 1483595950,\n",
       " 'JobStartDate': 1483595950,\n",
       " 'JobStatus': 4,\n",
       " 'LastJobStatus': 2,\n",
       " 'LastRemoteHost': 'slot1@c220g2-011026.wisc.cloudlab.us',\n",
       " 'MATCH_EXP_JOBGLIDEIN_ResourceName': 'CLOUD_WISC',\n",
       " 'NumJobStarts': 1,\n",
       " 'NumShadowStarts': 1,\n",
       " 'Owner': 'ice3simusr',\n",
       " 'ProcId': 0,\n",
       " 'QDate': 1483595351,\n",
       " 'RemoteSysCpu': 1.0,\n",
       " 'RemoteUserCpu': 8.0,\n",
       " 'RemoteWallClockTime': 50.0,\n",
       " 'RequestCpus': 1,\n",
       " 'RequestDisk': 4000000,\n",
       " 'RequestMemory': 20000,\n",
       " 'ResidentSetSize_RAW': 17732,\n",
       " 'StartdPrincipal': 'execute-side@matchsession/128.104.222.210',\n",
       " '_id': ObjectId('58a60c7ffae3de02c45115b2')}"
      ]
     },
     "execution_count": 11,
     "metadata": {},
     "output_type": "execute_result"
    }
   ],
   "source": [
    "db.condor_history.find_one({'EnteredCurrentStatus':{'$gte':time.mktime((2017,1,5,0,0,0,0,0,0)),\n",
    "                                  '$lt':time.mktime((2017,2,14,0,0,0,0,0,0))},'LastRemoteHost':{'$regex':'.*@'}})"
   ]
  },
  {
   "cell_type": "code",
   "execution_count": 8,
   "metadata": {
    "collapsed": false
   },
   "outputs": [
    {
     "name": "stdout",
     "output_type": "stream",
     "text": [
      "273.5321114063263\n",
      "1\n"
     ]
    }
   ],
   "source": [
    "start_time = time.time()\n",
    "pipeline = [\n",
    "    {'$match':{'MATCH_EXP_JOBGLIDEIN_ResourceName':'CHTC',\n",
    "               'EnteredCurrentStatus':{'$gte':time.mktime((2016,1,0,0,0,0,0,0,0)),\n",
    "                                  '$lt':time.mktime((2017,1,0,0,0,0,0,0,0))},\n",
    "              }\n",
    "    },\n",
    "    {'$group':{'_id':'$MATCH_EXP_JOBGLIDEIN_ResourceName','count':{'$sum':'$RemoteWallClockTime'}}}\n",
    "]\n",
    "groups = {row['_id']:row['count'] for row in db.condor_history.aggregate(pipeline)}\n",
    "print(time.time()-start_time)\n",
    "print(len(groups))"
   ]
  },
  {
   "cell_type": "code",
   "execution_count": 15,
   "metadata": {
    "collapsed": false
   },
   "outputs": [
    {
     "data": {
      "text/plain": [
       "5430563.368611111"
      ]
     },
     "execution_count": 15,
     "metadata": {},
     "output_type": "execute_result"
    }
   ],
   "source": [
    "list(groups.values())[0]/3600"
   ]
  },
  {
   "cell_type": "code",
   "execution_count": 3,
   "metadata": {
    "collapsed": false
   },
   "outputs": [
    {
     "name": "stdout",
     "output_type": "stream",
     "text": [
      "63\n",
      "{'AGLT2': 237380,\n",
      " 'BEgrid-ULB-VUB': 215871,\n",
      " 'BNL-ATLAS': 539733,\n",
      " 'Bartol': 535550,\n",
      " 'Bridges': 165776,\n",
      " 'CA-MCGILL-CLUMEQ-T2': 742418,\n",
      " 'CA-SCINET-T2': 1152662,\n",
      " 'CHTC': 11196722,\n",
      " 'CIT_CMS_T2': 1591568,\n",
      " 'Clemson-Palmetto': 202124,\n",
      " 'Comet': 3030947,\n",
      " 'Crane': 1571323,\n",
      " 'DESY': 2476589,\n",
      " 'DESY-HH': 88672,\n",
      " 'DESY-ZN': 4145524,\n",
      " 'Dourtmund': 1,\n",
      " 'FLTECH': 82062,\n",
      " 'GPGrid': 977499,\n",
      " 'GZK': 8036,\n",
      " 'GridUNESP_CENTRAL': 82944,\n",
      " 'Guillimin': 3215929,\n",
      " 'HOSTED_STANFORD': 679328,\n",
      " 'Hyak': 1338660,\n",
      " 'IceCube_DE_Dortmund_udo-ce08': 5,\n",
      " 'LIDO_Dortmund': 181590,\n",
      " 'Local Job': 4756781,\n",
      " 'MWT2': 999292,\n",
      " 'NPX': 1447528,\n",
      " 'NUMEP-OSG': 67533,\n",
      " 'NWICG_NDCMS': 383681,\n",
      " 'NYSGRID_CORNELL_NYS1': 59258,\n",
      " 'Nebraska': 1103446,\n",
      " 'OU_OSCER_ATLAS': 115324,\n",
      " 'PHIDO_Dortmund': 62922,\n",
      " 'Purdue-Hadoop': 298535,\n",
      " 'RWTH-Aachen': 298206,\n",
      " 'SPRACE': 531590,\n",
      " 'SU-OG': 358206,\n",
      " 'SU-OG-CE': 1500282,\n",
      " 'SU-OG-CE1': 913974,\n",
      " 'SWT2_CPB': 35003,\n",
      " 'Sandhills': 60213,\n",
      " 'T2B_BE_IIHE': 3217864,\n",
      " 'Tusker': 748472,\n",
      " 'UCD': 206118,\n",
      " 'UCSDT2': 723841,\n",
      " 'UConn-OSG': 330640,\n",
      " 'UKI-LT2-QMUL': 1108,\n",
      " 'UKI-NORTHGRID-MAN-HEP': 60013,\n",
      " 'UNI-DORTMUND': 391228,\n",
      " 'USCMS-FNAL-WC1': 707645,\n",
      " 'UTA_SWT2': 20235,\n",
      " 'Uppsala': 51302,\n",
      " 'Vanderbilt': 14085,\n",
      " 'WIPAC': 2930441,\n",
      " 'Xstream': 781,\n",
      " 'jasper': 18923,\n",
      " 'mainz': 881906,\n",
      " 'mainzgrid': 43447,\n",
      " 'osgconnect': 376471,\n",
      " 'parallel': 344200,\n",
      " 'wuppertalprod': 563140,\n",
      " 'xsede-osg': 4854742}\n"
     ]
    }
   ],
   "source": [
    "groups2 = {k:groups[k] for k in groups if '.' not in k and not k.startswith('gzk')}\n",
    "pprint(len(groups2))\n",
    "pprint(groups2)"
   ]
  },
  {
   "cell_type": "code",
   "execution_count": 10,
   "metadata": {
    "collapsed": false
   },
   "outputs": [
    {
     "data": {
      "text/plain": [
       "80850866"
      ]
     },
     "execution_count": 10,
     "metadata": {},
     "output_type": "execute_result"
    }
   ],
   "source": [
    "db.condor_history.find().count()"
   ]
  },
  {
   "cell_type": "code",
   "execution_count": 5,
   "metadata": {
    "collapsed": false
   },
   "outputs": [
    {
     "data": {
      "text/plain": [
       "{'BytesRecvd': 1847352.0,\n",
       " 'BytesSent': 142595.0,\n",
       " 'ClusterId': 14893611,\n",
       " 'Cmd': '/scratch/simprod/glidein/submit/12602/iceprod_13713.1480356088.284311/iceprod.12602.13713.corsika.sh',\n",
       " 'CommittedTime': 5286,\n",
       " 'CompletionDate': 1480362641,\n",
       " 'CumulativeSlotTime': 5286.0,\n",
       " 'DiskUsage_RAW': 11415174,\n",
       " 'EnteredCurrentStatus': 1480362641,\n",
       " 'ExecutableSize_RAW': 3,\n",
       " 'ExitBySignal': False,\n",
       " 'ExitCode': 0,\n",
       " 'ExitStatus': 0,\n",
       " 'GlobalJobId': 'glidein-simprod.icecube.wisc.edu#14893611.0#1480356313',\n",
       " 'ImageSize_RAW': 1137752,\n",
       " 'JobCurrentStartDate': 1480357355,\n",
       " 'JobStartDate': 1480357355,\n",
       " 'JobStatus': 4,\n",
       " 'LastJobStatus': 2,\n",
       " 'LastRemoteHost': 'slot1@2770275@g23n09.hep.wisc.edu',\n",
       " 'MATCH_EXP_JOBGLIDEIN_ResourceName': 'Local Job',\n",
       " 'NumJobStarts': 1,\n",
       " 'NumShadowStarts': 1,\n",
       " 'Owner': 'ice3simusr',\n",
       " 'ProcId': 0,\n",
       " 'QDate': 1480356313,\n",
       " 'RemoteSysCpu': 75.0,\n",
       " 'RemoteUserCpu': 5107.0,\n",
       " 'RemoteWallClockTime': 5286.0,\n",
       " 'RequestCpus': 1,\n",
       " 'RequestDisk': 21000000,\n",
       " 'RequestMemory': 2000,\n",
       " 'ResidentSetSize_RAW': 548900,\n",
       " 'StartdPrincipal': 'execute-side@matchsession/144.92.180.89',\n",
       " '_id': ObjectId('58a538f56b0edf2dacb14029')}"
      ]
     },
     "execution_count": 5,
     "metadata": {},
     "output_type": "execute_result"
    }
   ],
   "source": [
    "db.condor_history.find_one({'MATCH_EXP_JOBGLIDEIN_ResourceName':'Local Job'})"
   ]
  },
  {
   "cell_type": "code",
   "execution_count": 16,
   "metadata": {
    "collapsed": false
   },
   "outputs": [
    {
     "data": {
      "text/plain": [
       "<pymongo.results.UpdateResult at 0x7f4a7e3a9948>"
      ]
     },
     "execution_count": 16,
     "metadata": {},
     "output_type": "execute_result"
    }
   ],
   "source": [
    "db.condor_history.update_many(filter={'Requestgpus':{'$exists':False}},update={'$set':{'Requestgpus':0}})"
   ]
  },
  {
   "cell_type": "code",
   "execution_count": null,
   "metadata": {
    "collapsed": true
   },
   "outputs": [],
   "source": []
  }
 ],
 "metadata": {
  "kernelspec": {
   "display_name": "Python 3",
   "language": "python",
   "name": "python3"
  },
  "language_info": {
   "codemirror_mode": {
    "name": "ipython",
    "version": 3
   },
   "file_extension": ".py",
   "mimetype": "text/x-python",
   "name": "python",
   "nbconvert_exporter": "python",
   "pygments_lexer": "ipython3",
   "version": "3.5.3"
  }
 },
 "nbformat": 4,
 "nbformat_minor": 2
}
