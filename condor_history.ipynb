{
 "cells": [
  {
   "cell_type": "code",
   "execution_count": 1,
   "metadata": {
    "collapsed": true
   },
   "outputs": [],
   "source": [
    "%matplotlib inline\n",
    "import pymongo\n",
    "from pymongo import MongoClient\n",
    "import matplotlib.pyplot as plt\n",
    "from pprint import pprint\n",
    "from collections import defaultdict\n",
    "from datetime import datetime, timedelta\n",
    "from functools import partial\n",
    "db = MongoClient('mongodb-condor.icecube.wisc.edu').condor"
   ]
  },
  {
   "cell_type": "code",
   "execution_count": null,
   "metadata": {
    "collapsed": false
   },
   "outputs": [],
   "source": [
    "pipeline = [\n",
    "    {'$match':{'MATCH_EXP_JOBGLIDEIN_ResourceName':{'$exists': True}}},\n",
    "    {'$group':{'_id':'$MATCH_EXP_JOBGLIDEIN_ResourceName','count':{'$sum':1}}}\n",
    "]"
   ]
  },
  {
   "cell_type": "code",
   "execution_count": null,
   "metadata": {
    "collapsed": false
   },
   "outputs": [],
   "source": [
    "db.command('aggregate', 'things', pipeline=pipeline, explain=True)"
   ]
  },
  {
   "cell_type": "code",
   "execution_count": null,
   "metadata": {
    "collapsed": false
   },
   "outputs": [],
   "source": [
    "groups = db.condor_history.aggregate(pipeline)\n",
    "pprint(list(groups))"
   ]
  },
  {
   "cell_type": "code",
   "execution_count": 2,
   "metadata": {
    "collapsed": false
   },
   "outputs": [
    {
     "data": {
      "text/plain": [
       "{'BytesRecvd': 1889256.0,\n",
       " 'BytesSent': 179157.0,\n",
       " 'ClusterId': 7551238,\n",
       " 'Cmd': '/scratch/simprod/glidein-gpu2/submit/11477/iceprod_9437.1466225051.328931/iceprod.11477.9437.clsim_1.sh',\n",
       " 'CommittedTime': 442,\n",
       " 'CompletionDate': 1466226006,\n",
       " 'CumulativeSlotTime': 442.0,\n",
       " 'DiskUsage_RAW': 311105,\n",
       " 'EnteredCurrentStatus': 1466226006,\n",
       " 'ExecutableSize_RAW': 3,\n",
       " 'ExitBySignal': False,\n",
       " 'ExitCode': 0,\n",
       " 'ExitStatus': 0,\n",
       " 'GlobalJobId': 'glidein-simprod.icecube.wisc.edu#7551238.0#1466225079',\n",
       " 'ImageSize_RAW': 107028204,\n",
       " 'JobCurrentStartDate': 1466225564,\n",
       " 'JobStartDate': 1466225564,\n",
       " 'JobStatus': 4,\n",
       " 'LastRemoteHost': 'slot1@3326@kepler19.zeuthen.desy.de',\n",
       " 'MATCH_EXP_JOBGLIDEIN_ResourceName': 'DESY',\n",
       " 'NumJobStarts': 1,\n",
       " 'NumShadowStarts': 1,\n",
       " 'Owner': 'juancarlos',\n",
       " 'ProcId': 0,\n",
       " 'QDate': 1466225079,\n",
       " 'RemoteSysCpu': 39.0,\n",
       " 'RemoteUserCpu': 213.0,\n",
       " 'RemoteWallClockTime': 442.0,\n",
       " 'RequestCpus': 1,\n",
       " 'RequestDisk': 2000000,\n",
       " 'RequestMemory': 2000,\n",
       " 'Requestgpus': 1,\n",
       " 'ResidentSetSize_RAW': 663816,\n",
       " '_id': ObjectId('58a537176b0edfac575d58ed')}"
      ]
     },
     "execution_count": 2,
     "metadata": {},
     "output_type": "execute_result"
    }
   ],
   "source": [
    "db.condor_history.find_one()"
   ]
  },
  {
   "cell_type": "code",
   "execution_count": 2,
   "metadata": {
    "collapsed": false
   },
   "outputs": [],
   "source": [
    "def timekey(t):\n",
    "    return datetime.fromtimestamp(t).strftime('%Y-%m-%d')\n",
    "def make2list():\n",
    "    return [0.,0.]                                              "
   ]
  },
  {
   "cell_type": "code",
   "execution_count": 75,
   "metadata": {
    "collapsed": false
   },
   "outputs": [
    {
     "data": {
      "text/plain": [
       "datetime.datetime(2017, 1, 10, 6, 13, 20)"
      ]
     },
     "execution_count": 75,
     "metadata": {},
     "output_type": "execute_result"
    }
   ],
   "source": [
    "datetime.fromtimestamp(1484050400)"
   ]
  },
  {
   "cell_type": "code",
   "execution_count": null,
   "metadata": {
    "collapsed": true
   },
   "outputs": [],
   "source": [
    "projection = ['MATCH_EXP_JOBGLIDEIN_ResourceName','EnteredCurrentStatus','CompletionDate',\n",
    "              'RemoteWallClockTime','CumulativeSlotTime','NunJobStarts']\n",
    "filter = {'EnteredCurrentStatus':{'$gte':1483250400,'$lt':1484050400}}\n",
    "# by day\n",
    "job_restarts = defaultdict(partial(defaultdict,make2list))\n",
    "cumulative_time = defaultdict(partial(defaultdict,make2list))\n",
    "success_time = defaultdict(partial(defaultdict,make2list))\n",
    "for i,row in enumerate(db.condor_history.find(filter=filter,projection=projection)):\n",
    "    if i > 1000000:\n",
    "        break\n",
    "    try:\n",
    "        if 'MATCH_EXP_JOBGLIDEIN_ResourceName' not in row:\n",
    "            continue\n",
    "        site = row['MATCH_EXP_JOBGLIDEIN_ResourceName']\n",
    "        date = timekey(row['EnteredCurrentStatus'])\n",
    "        if 'NumJobStarts' in row:\n",
    "            job_restarts[site][date][0] += int(row['NumJobStarts'])\n",
    "            job_restarts[site][date][1] += 1\n",
    "        cumulative_time[site][date][0] += float(row['CumulativeSlotTime'])\n",
    "        cumulative_time[site][date][1] += 1\n",
    "        if 'CompletionDate' in row:\n",
    "            success_time[site][date][0] += float(row['RemoteWallClockTime'])\n",
    "            success_time[site][date][1] += 1\n",
    "    except:\n",
    "        print(row)\n",
    "        raise\n",
    "    "
   ]
  },
  {
   "cell_type": "code",
   "execution_count": 4,
   "metadata": {
    "collapsed": false
   },
   "outputs": [
    {
     "name": "stdout",
     "output_type": "stream",
     "text": [
      "dict_keys(['2017-01-01'])\n"
     ]
    }
   ],
   "source": [
    "pprint(cumulative_time['WIPAC'].keys())"
   ]
  },
  {
   "cell_type": "code",
   "execution_count": null,
   "metadata": {
    "collapsed": true
   },
   "outputs": [],
   "source": [
    "db.condor_history.create_index(\"EnteredCurrentStatus\")"
   ]
  },
  {
   "cell_type": "code",
   "execution_count": null,
   "metadata": {
    "collapsed": false
   },
   "outputs": [],
   "source": [
    "list(db.condor_history.list_indexes())"
   ]
  },
  {
   "cell_type": "code",
   "execution_count": null,
   "metadata": {
    "collapsed": true
   },
   "outputs": [],
   "source": [
    "db.condor_history.find(filter=filter,projection=projection).explain()"
   ]
  }
 ],
 "metadata": {
  "kernelspec": {
   "display_name": "Python 3",
   "language": "python",
   "name": "python3"
  },
  "language_info": {
   "codemirror_mode": {
    "name": "ipython",
    "version": 3
   },
   "file_extension": ".py",
   "mimetype": "text/x-python",
   "name": "python",
   "nbconvert_exporter": "python",
   "pygments_lexer": "ipython3",
   "version": "3.5.3"
  }
 },
 "nbformat": 4,
 "nbformat_minor": 2
}
