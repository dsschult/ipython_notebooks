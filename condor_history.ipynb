{
 "cells": [
  {
   "cell_type": "code",
   "execution_count": 13,
   "metadata": {
    "collapsed": true
   },
   "outputs": [],
   "source": [
    "%matplotlib inline\n",
    "import pymongo\n",
    "from pymongo import MongoClient\n",
    "import matplotlib\n",
    "matplotlib.rcParams.update({'font.size': 22})\n",
    "import matplotlib.pyplot as plt\n",
    "import numpy\n",
    "from pprint import pprint\n",
    "from collections import defaultdict\n",
    "from datetime import datetime, timedelta\n",
    "from functools import partial\n",
    "import time\n",
    "db = MongoClient('mongodb-condor.icecube.wisc.edu').condor"
   ]
  },
  {
   "cell_type": "code",
   "execution_count": 11,
   "metadata": {
    "collapsed": false
   },
   "outputs": [],
   "source": [
    "pipeline = [\n",
    "    {'$match':{'MATCH_EXP_JOBGLIDEIN_ResourceName':{'$exists': True}}},\n",
    "    {'$group':{'_id':'$MATCH_EXP_JOBGLIDEIN_ResourceName','count':{'$sum':1}}}\n",
    "]"
   ]
  },
  {
   "cell_type": "code",
   "execution_count": null,
   "metadata": {
    "collapsed": false
   },
   "outputs": [],
   "source": [
    "db.command('aggregate', 'things', pipeline=pipeline, explain=True)"
   ]
  },
  {
   "cell_type": "code",
   "execution_count": 15,
   "metadata": {
    "collapsed": true
   },
   "outputs": [
    {
     "ename": "OperationFailure",
     "evalue": "exception: operation was interrupted",
     "output_type": "error",
     "traceback": [
      "\u001b[0;31m---------------------------------------------------------------------------\u001b[0m",
      "\u001b[0;31mOperationFailure\u001b[0m                          Traceback (most recent call last)",
      "\u001b[0;32m<ipython-input-15-4df9f2624c8c>\u001b[0m in \u001b[0;36m<module>\u001b[0;34m()\u001b[0m\n\u001b[1;32m      4\u001b[0m     \u001b[0;34m{\u001b[0m\u001b[0;34m'$group'\u001b[0m\u001b[0;34m:\u001b[0m\u001b[0;34m{\u001b[0m\u001b[0;34m'_id'\u001b[0m\u001b[0;34m:\u001b[0m\u001b[0;34m'$MATCH_EXP_JOBGLIDEIN_ResourceName'\u001b[0m\u001b[0;34m,\u001b[0m\u001b[0;34m'count'\u001b[0m\u001b[0;34m:\u001b[0m\u001b[0;34m{\u001b[0m\u001b[0;34m'$sum'\u001b[0m\u001b[0;34m:\u001b[0m\u001b[0;36m1\u001b[0m\u001b[0;34m}\u001b[0m\u001b[0;34m}\u001b[0m\u001b[0;34m}\u001b[0m\u001b[0;34m\u001b[0m\u001b[0m\n\u001b[1;32m      5\u001b[0m ]\n\u001b[0;32m----> 6\u001b[0;31m \u001b[0mgroups\u001b[0m \u001b[0;34m=\u001b[0m \u001b[0;34m{\u001b[0m\u001b[0mrow\u001b[0m\u001b[0;34m[\u001b[0m\u001b[0;34m'_id'\u001b[0m\u001b[0;34m]\u001b[0m\u001b[0;34m:\u001b[0m\u001b[0mrow\u001b[0m\u001b[0;34m[\u001b[0m\u001b[0;34m'count'\u001b[0m\u001b[0;34m]\u001b[0m \u001b[0;32mfor\u001b[0m \u001b[0mrow\u001b[0m \u001b[0;32min\u001b[0m \u001b[0mdb\u001b[0m\u001b[0;34m.\u001b[0m\u001b[0mcondor_history\u001b[0m\u001b[0;34m.\u001b[0m\u001b[0maggregate\u001b[0m\u001b[0;34m(\u001b[0m\u001b[0mpipeline\u001b[0m\u001b[0;34m)\u001b[0m\u001b[0;34m}\u001b[0m\u001b[0;34m\u001b[0m\u001b[0m\n\u001b[0m\u001b[1;32m      7\u001b[0m \u001b[0mprint\u001b[0m\u001b[0;34m(\u001b[0m\u001b[0mtime\u001b[0m\u001b[0;34m.\u001b[0m\u001b[0mtime\u001b[0m\u001b[0;34m(\u001b[0m\u001b[0;34m)\u001b[0m\u001b[0;34m-\u001b[0m\u001b[0mstart_time\u001b[0m\u001b[0;34m)\u001b[0m\u001b[0;34m\u001b[0m\u001b[0m\n\u001b[1;32m      8\u001b[0m \u001b[0mpprint\u001b[0m\u001b[0;34m(\u001b[0m\u001b[0mlen\u001b[0m\u001b[0;34m(\u001b[0m\u001b[0mgroups\u001b[0m\u001b[0;34m)\u001b[0m\u001b[0;34m)\u001b[0m\u001b[0;34m\u001b[0m\u001b[0m\n",
      "\u001b[0;32m/usr/lib/python3/dist-packages/pymongo/collection.py\u001b[0m in \u001b[0;36maggregate\u001b[0;34m(self, pipeline, **kwargs)\u001b[0m\n\u001b[1;32m   1872\u001b[0m                 result = self._command(sock_info, cmd, slave_ok,\n\u001b[1;32m   1873\u001b[0m                                        \u001b[0mparse_write_concern_error\u001b[0m\u001b[0;34m=\u001b[0m\u001b[0mdollar_out\u001b[0m\u001b[0;34m,\u001b[0m\u001b[0;34m\u001b[0m\u001b[0m\n\u001b[0;32m-> 1874\u001b[0;31m                                        collation=collation)\n\u001b[0m\u001b[1;32m   1875\u001b[0m \u001b[0;34m\u001b[0m\u001b[0m\n\u001b[1;32m   1876\u001b[0m             \u001b[0;32mif\u001b[0m \u001b[0;34m\"cursor\"\u001b[0m \u001b[0;32min\u001b[0m \u001b[0mresult\u001b[0m\u001b[0;34m:\u001b[0m\u001b[0;34m\u001b[0m\u001b[0m\n",
      "\u001b[0;32m/usr/lib/python3/dist-packages/pymongo/collection.py\u001b[0m in \u001b[0;36m_command\u001b[0;34m(self, sock_info, command, slave_ok, read_preference, codec_options, check, allowable_errors, read_concern, write_concern, parse_write_concern_error, collation)\u001b[0m\n\u001b[1;32m    230\u001b[0m             \u001b[0mwrite_concern\u001b[0m\u001b[0;34m=\u001b[0m\u001b[0mwrite_concern\u001b[0m\u001b[0;34m,\u001b[0m\u001b[0;34m\u001b[0m\u001b[0m\n\u001b[1;32m    231\u001b[0m             \u001b[0mparse_write_concern_error\u001b[0m\u001b[0;34m=\u001b[0m\u001b[0mparse_write_concern_error\u001b[0m\u001b[0;34m,\u001b[0m\u001b[0;34m\u001b[0m\u001b[0m\n\u001b[0;32m--> 232\u001b[0;31m             collation=collation)\n\u001b[0m\u001b[1;32m    233\u001b[0m \u001b[0;34m\u001b[0m\u001b[0m\n\u001b[1;32m    234\u001b[0m     \u001b[0;32mdef\u001b[0m \u001b[0m__create\u001b[0m\u001b[0;34m(\u001b[0m\u001b[0mself\u001b[0m\u001b[0;34m,\u001b[0m \u001b[0moptions\u001b[0m\u001b[0;34m,\u001b[0m \u001b[0mcollation\u001b[0m\u001b[0;34m)\u001b[0m\u001b[0;34m:\u001b[0m\u001b[0;34m\u001b[0m\u001b[0m\n",
      "\u001b[0;32m/usr/lib/python3/dist-packages/pymongo/pool.py\u001b[0m in \u001b[0;36mcommand\u001b[0;34m(self, dbname, spec, slave_ok, read_preference, codec_options, check, allowable_errors, check_keys, read_concern, write_concern, parse_write_concern_error, collation)\u001b[0m\n\u001b[1;32m    417\u001b[0m                            \u001b[0mread_concern\u001b[0m\u001b[0;34m,\u001b[0m\u001b[0;34m\u001b[0m\u001b[0m\n\u001b[1;32m    418\u001b[0m                            \u001b[0mparse_write_concern_error\u001b[0m\u001b[0;34m=\u001b[0m\u001b[0mparse_write_concern_error\u001b[0m\u001b[0;34m,\u001b[0m\u001b[0;34m\u001b[0m\u001b[0m\n\u001b[0;32m--> 419\u001b[0;31m                            collation=collation)\n\u001b[0m\u001b[1;32m    420\u001b[0m         \u001b[0;32mexcept\u001b[0m \u001b[0mOperationFailure\u001b[0m\u001b[0;34m:\u001b[0m\u001b[0;34m\u001b[0m\u001b[0m\n\u001b[1;32m    421\u001b[0m             \u001b[0;32mraise\u001b[0m\u001b[0;34m\u001b[0m\u001b[0m\n",
      "\u001b[0;32m/usr/lib/python3/dist-packages/pymongo/network.py\u001b[0m in \u001b[0;36mcommand\u001b[0;34m(sock, dbname, spec, slave_ok, is_mongos, read_preference, codec_options, check, allowable_errors, address, check_keys, listeners, max_bson_size, read_concern, parse_write_concern_error, collation)\u001b[0m\n\u001b[1;32m    114\u001b[0m             helpers._check_command_response(\n\u001b[1;32m    115\u001b[0m                 \u001b[0mresponse_doc\u001b[0m\u001b[0;34m,\u001b[0m \u001b[0;32mNone\u001b[0m\u001b[0;34m,\u001b[0m \u001b[0mallowable_errors\u001b[0m\u001b[0;34m,\u001b[0m\u001b[0;34m\u001b[0m\u001b[0m\n\u001b[0;32m--> 116\u001b[0;31m                 parse_write_concern_error=parse_write_concern_error)\n\u001b[0m\u001b[1;32m    117\u001b[0m     \u001b[0;32mexcept\u001b[0m \u001b[0mException\u001b[0m \u001b[0;32mas\u001b[0m \u001b[0mexc\u001b[0m\u001b[0;34m:\u001b[0m\u001b[0;34m\u001b[0m\u001b[0m\n\u001b[1;32m    118\u001b[0m         \u001b[0;32mif\u001b[0m \u001b[0mpublish\u001b[0m\u001b[0;34m:\u001b[0m\u001b[0;34m\u001b[0m\u001b[0m\n",
      "\u001b[0;32m/usr/lib/python3/dist-packages/pymongo/helpers.py\u001b[0m in \u001b[0;36m_check_command_response\u001b[0;34m(response, msg, allowable_errors, parse_write_concern_error)\u001b[0m\n\u001b[1;32m    208\u001b[0m \u001b[0;34m\u001b[0m\u001b[0m\n\u001b[1;32m    209\u001b[0m             \u001b[0mmsg\u001b[0m \u001b[0;34m=\u001b[0m \u001b[0mmsg\u001b[0m \u001b[0;32mor\u001b[0m \u001b[0;34m\"%s\"\u001b[0m\u001b[0;34m\u001b[0m\u001b[0m\n\u001b[0;32m--> 210\u001b[0;31m             \u001b[0;32mraise\u001b[0m \u001b[0mOperationFailure\u001b[0m\u001b[0;34m(\u001b[0m\u001b[0mmsg\u001b[0m \u001b[0;34m%\u001b[0m \u001b[0merrmsg\u001b[0m\u001b[0;34m,\u001b[0m \u001b[0mcode\u001b[0m\u001b[0;34m,\u001b[0m \u001b[0mresponse\u001b[0m\u001b[0;34m)\u001b[0m\u001b[0;34m\u001b[0m\u001b[0m\n\u001b[0m\u001b[1;32m    211\u001b[0m \u001b[0;34m\u001b[0m\u001b[0m\n\u001b[1;32m    212\u001b[0m \u001b[0;34m\u001b[0m\u001b[0m\n",
      "\u001b[0;31mOperationFailure\u001b[0m: exception: operation was interrupted"
     ]
    }
   ],
   "source": [
    "start_time = time.time()\n",
    "pipeline = [\n",
    "    {'$match':{'MATCH_EXP_JOBGLIDEIN_ResourceName':{'$exists': True}}},\n",
    "    {'$group':{'_id':'$MATCH_EXP_JOBGLIDEIN_ResourceName','count':{'$sum':1}}}\n",
    "]\n",
    "groups = {row['_id']:row['count'] for row in db.condor_history.aggregate(pipeline)}\n",
    "print(time.time()-start_time)\n",
    "pprint(len(groups))"
   ]
  },
  {
   "cell_type": "code",
   "execution_count": 10,
   "metadata": {
    "collapsed": true
   },
   "outputs": [
    {
     "data": {
      "text/plain": [
       "{'BytesRecvd': 1889256.0,\n",
       " 'BytesSent': 179157.0,\n",
       " 'ClusterId': 7551238,\n",
       " 'Cmd': '/scratch/simprod/glidein-gpu2/submit/11477/iceprod_9437.1466225051.328931/iceprod.11477.9437.clsim_1.sh',\n",
       " 'CommittedTime': 442,\n",
       " 'CompletionDate': 1466226006,\n",
       " 'CumulativeSlotTime': 442.0,\n",
       " 'DiskUsage_RAW': 311105,\n",
       " 'EnteredCurrentStatus': 1466226006,\n",
       " 'ExecutableSize_RAW': 3,\n",
       " 'ExitBySignal': False,\n",
       " 'ExitCode': 0,\n",
       " 'ExitStatus': 0,\n",
       " 'GlobalJobId': 'glidein-simprod.icecube.wisc.edu#7551238.0#1466225079',\n",
       " 'ImageSize_RAW': 107028204,\n",
       " 'JobCurrentStartDate': 1466225564,\n",
       " 'JobStartDate': 1466225564,\n",
       " 'JobStatus': 4,\n",
       " 'LastJobStatus': 2,\n",
       " 'LastRemoteHost': 'slot1@3326@kepler19.zeuthen.desy.de',\n",
       " 'MATCH_EXP_JOBGLIDEIN_ResourceName': 'DESY',\n",
       " 'NumJobStarts': 1,\n",
       " 'NumShadowStarts': 1,\n",
       " 'Owner': 'juancarlos',\n",
       " 'ProcId': 0,\n",
       " 'QDate': 1466225079,\n",
       " 'RemoteSysCpu': 39.0,\n",
       " 'RemoteUserCpu': 213.0,\n",
       " 'RemoteWallClockTime': 442.0,\n",
       " 'RequestCpus': 1,\n",
       " 'RequestDisk': 2000000,\n",
       " 'RequestMemory': 2000,\n",
       " 'Requestgpus': 1,\n",
       " 'ResidentSetSize_RAW': 663816,\n",
       " 'StartdPrincipal': 'execute-side@matchsession/141.34.14.219',\n",
       " '_id': ObjectId('58a537176b0edfac575d58ed')}"
      ]
     },
     "execution_count": 10,
     "metadata": {},
     "output_type": "execute_result"
    }
   ],
   "source": [
    "db.condor_history.find_one()"
   ]
  },
  {
   "cell_type": "code",
   "execution_count": 2,
   "metadata": {
    "collapsed": false
   },
   "outputs": [],
   "source": [
    "def timekey(t):\n",
    "    return datetime.fromtimestamp(t).strftime('%Y-%m-%d')\n",
    "def make2list():\n",
    "    return [0.,0.]                                              "
   ]
  },
  {
   "cell_type": "code",
   "execution_count": 19,
   "metadata": {
    "collapsed": false
   },
   "outputs": [
    {
     "data": {
      "text/plain": [
       "1487052000.0"
      ]
     },
     "execution_count": 19,
     "metadata": {},
     "output_type": "execute_result"
    }
   ],
   "source": [
    "time.mktime((2017,2,14,0,0,0,0,0,0))"
   ]
  },
  {
   "cell_type": "code",
   "execution_count": 16,
   "metadata": {
    "collapsed": false
   },
   "outputs": [
    {
     "name": "stdout",
     "output_type": "stream",
     "text": [
      "255.92515349388123\n"
     ]
    }
   ],
   "source": [
    "projection = ['MATCH_EXP_JOBGLIDEIN_ResourceName','EnteredCurrentStatus',\n",
    "              'RemoteWallClockTime','CumulativeSlotTime','NumJobStarts','ExitCode','ExitBySignal','JobStatus']\n",
    "filter = {'EnteredCurrentStatus':{'$gte':time.mktime((2017,1,7,0,0,0,0,0,0)),\n",
    "                                  '$lt':time.mktime((2017,2,14,0,0,0,0,0,0))},\n",
    "         # 'Owner':'i3filter',\n",
    "          'Requestgpus':1,\n",
    "         }\n",
    "# by day\n",
    "job_restarts = defaultdict(partial(defaultdict,make2list))\n",
    "cumulative_time = defaultdict(partial(defaultdict,make2list))\n",
    "success_time = defaultdict(partial(defaultdict,make2list))\n",
    "removed_time = defaultdict(partial(defaultdict,make2list))\n",
    "signal_time = defaultdict(partial(defaultdict,make2list))\n",
    "fail_time = defaultdict(partial(defaultdict,make2list))\n",
    "start_time = time.time()\n",
    "for i,row in enumerate(db.condor_history.find(filter=filter,projection=projection)):\n",
    "    try:\n",
    "        if 'MATCH_EXP_JOBGLIDEIN_ResourceName' not in row:\n",
    "            continue\n",
    "        site = row['MATCH_EXP_JOBGLIDEIN_ResourceName']\n",
    "        date = timekey(row['EnteredCurrentStatus'])\n",
    "        if 'NumJobStarts' in row:\n",
    "            job_restarts[site][date][0] += int(row['NumJobStarts'])\n",
    "            job_restarts[site][date][1] += 1\n",
    "        cumulative_time[site][date][0] += float(row['CumulativeSlotTime'])\n",
    "        cumulative_time[site][date][1] += 1\n",
    "        if row['JobStatus'] == 4 and (not row['ExitBySignal']) and row['ExitCode'] == 0:\n",
    "            success_time[site][date][0] += float(row['RemoteWallClockTime'])\n",
    "            success_time[site][date][1] += 1\n",
    "        elif row['JobStatus'] == 3:\n",
    "            removed_time[site][date][0] += float(row['RemoteWallClockTime'])\n",
    "            removed_time[site][date][1] += 1\n",
    "        elif row['ExitBySignal']:\n",
    "            signal_time[site][date][0] += float(row['RemoteWallClockTime'])\n",
    "            signal_time[site][date][1] += 1\n",
    "        else:\n",
    "            fail_time[site][date][0] += float(row['RemoteWallClockTime'])\n",
    "            fail_time[site][date][1] += 1\n",
    "    except:\n",
    "        print(row)\n",
    "        raise\n",
    "print(time.time()-start_time)"
   ]
  },
  {
   "cell_type": "code",
   "execution_count": 6,
   "metadata": {
    "collapsed": false
   },
   "outputs": [
    {
     "name": "stdout",
     "output_type": "stream",
     "text": [
      "dict_keys(['2017-01-03', '2017-01-04', '2017-01-05', '2017-01-02', '2017-01-01'])\n"
     ]
    }
   ],
   "source": [
    "pprint(cumulative_time['WIPAC'].keys())"
   ]
  },
  {
   "cell_type": "code",
   "execution_count": null,
   "metadata": {
    "collapsed": true
   },
   "outputs": [],
   "source": [
    "db.condor_history.create_index(\"EnteredCurrentStatus\")"
   ]
  },
  {
   "cell_type": "code",
   "execution_count": null,
   "metadata": {
    "collapsed": false
   },
   "outputs": [],
   "source": [
    "list(db.condor_history.list_indexes())"
   ]
  },
  {
   "cell_type": "code",
   "execution_count": null,
   "metadata": {
    "collapsed": true
   },
   "outputs": [],
   "source": [
    "db.condor_history.find(filter=filter,projection=projection).explain()"
   ]
  }
 ],
 "metadata": {
  "kernelspec": {
   "display_name": "Python 3",
   "language": "python",
   "name": "python3"
  },
  "language_info": {
   "codemirror_mode": {
    "name": "ipython",
    "version": 3
   },
   "file_extension": ".py",
   "mimetype": "text/x-python",
   "name": "python",
   "nbconvert_exporter": "python",
   "pygments_lexer": "ipython3",
   "version": "3.5.3"
  }
 },
 "nbformat": 4,
 "nbformat_minor": 2
}
